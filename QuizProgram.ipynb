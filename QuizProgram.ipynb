{
  "nbformat": 4,
  "nbformat_minor": 0,
  "metadata": {
    "colab": {
      "provenance": [],
      "authorship_tag": "ABX9TyPZWYAnm5YDDi//jzX8vPQ+",
      "include_colab_link": true
    },
    "kernelspec": {
      "name": "python3",
      "display_name": "Python 3"
    },
    "language_info": {
      "name": "python"
    }
  },
  "cells": [
    {
      "cell_type": "markdown",
      "metadata": {
        "id": "view-in-github",
        "colab_type": "text"
      },
      "source": [
        "<a href=\"https://colab.research.google.com/github/dhulam07/python_projects/blob/main/QuizProgram.ipynb\" target=\"_parent\"><img src=\"https://colab.research.google.com/assets/colab-badge.svg\" alt=\"Open In Colab\"/></a>"
      ]
    },
    {
      "cell_type": "code",
      "execution_count": null,
      "metadata": {
        "id": "4JRfcxsT4lR3"
      },
      "outputs": [],
      "source": [
        "class Quiz:\n",
        "    def __init__(self):\n",
        "        self.questions = [\n",
        "            \"Who is the Prime Minister of India?\",\n",
        "            \"Which is the highest mountain in the world?\",\n",
        "            \"What is the most popular game in the world?\"\n",
        "        ]\n",
        "        self.options = [\n",
        "            [\"A: Narendra Modi\", \"B: Rahul Gandhi\", \"C: Amit Shah\", \"D: Arvind Kejriwal\"],\n",
        "            [\"A: Mount Everest\", \"B: K2\", \"C: Mount Kilimanjaro\", \"D: Mount Elbrus\"],\n",
        "            [\"A: Cricket\", \"B: Football\", \"C: Basketball\", \"D: Tennis\"]\n",
        "        ]\n",
        "        self.answers = [\"A\", \"A\", \"B\"]\n",
        "        self.score = 0\n",
        "\n",
        "    def run_quiz(self):\n",
        "        for i in range(len(self.questions)):\n",
        "            print(self.questions[i])\n",
        "            for option in self.options[i]:\n",
        "                print(option)\n",
        "            answer = input(\"Enter your answer (A, B, C, D): \")\n",
        "            if answer.upper() == self.answers[i]:\n",
        "                print(\"Correct answer!\\n\")\n",
        "                self.score += 1\n",
        "            else:\n",
        "                print(f\"Incorrect answer. The correct answer is {self.answers[i]}.\\n\")\n",
        "        print(f\"Quiz finished! Your final score is {self.score} out of {len(self.questions)}.\")\n",
        "\n",
        "if __name__ == \"__main__\":\n",
        "    quiz = Quiz()\n",
        "    quiz.run_quiz()\n",
        "\n"
      ]
    }
  ]
}