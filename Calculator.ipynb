{
  "nbformat": 4,
  "nbformat_minor": 0,
  "metadata": {
    "colab": {
      "provenance": [],
      "authorship_tag": "ABX9TyOepKdQCE7WTBAJcO0qBjBh",
      "include_colab_link": true
    },
    "kernelspec": {
      "name": "python3",
      "display_name": "Python 3"
    },
    "language_info": {
      "name": "python"
    }
  },
  "cells": [
    {
      "cell_type": "markdown",
      "metadata": {
        "id": "view-in-github",
        "colab_type": "text"
      },
      "source": [
        "<a href=\"https://colab.research.google.com/github/dhulam07/python_projects/blob/main/Calculator.ipynb\" target=\"_parent\"><img src=\"https://colab.research.google.com/assets/colab-badge.svg\" alt=\"Open In Colab\"/></a>"
      ]
    },
    {
      "cell_type": "code",
      "execution_count": 1,
      "metadata": {
        "colab": {
          "base_uri": "https://localhost:8080/"
        },
        "id": "oc27Y6zS7EoO",
        "outputId": "5df4226a-07a7-4e69-a291-5855477fdbda"
      },
      "outputs": [
        {
          "output_type": "stream",
          "name": "stdout",
          "text": [
            "Welcome to Command Line Calculator\n",
            "-------------\n",
            "Select operation:\n",
            "1. Add\n",
            "2. Subtract\n",
            "3. Multiply\n",
            "4. Divide\n",
            "5. Exit\n",
            "Enter choice (1/2/3/4/5): 4\n",
            "Enter first number: 6\n",
            "Enter second number: 2\n",
            "6.0 / 2.0 = 3.0\n"
          ]
        }
      ],
      "source": [
        "class CommandLineCalculator:\n",
        "    def __init__(self):\n",
        "        print(\"Welcome to Command Line Calculator\")\n",
        "        print(\"-------------\")\n",
        "    def run(self):\n",
        "        print(\"Select operation:\")\n",
        "        print(\"1. Add\")\n",
        "        print(\"2. Subtract\")\n",
        "        print(\"3. Multiply\")\n",
        "        print(\"4. Divide\")\n",
        "        print(\"5. Exit\")\n",
        "\n",
        "        choice = input(\"Enter choice (1/2/3/4/5): \")\n",
        "\n",
        "        if choice == '5':\n",
        "            print(\"Thank you! Have a great day!\")\n",
        "        else:\n",
        "            num1 = float(input(\"Enter first number: \"))\n",
        "            num2 = float(input(\"Enter second number: \"))\n",
        "\n",
        "            if choice == '1':\n",
        "                result = num1 + num2\n",
        "                print(f\"{num1} + {num2} = {result}\")\n",
        "            elif choice == '2':\n",
        "                result = num1 - num2\n",
        "                print(f\"{num1} - {num2} = {result}\")\n",
        "            elif choice == '3':\n",
        "                result = num1 * num2\n",
        "                print(f\"{num1} * {num2} = {result}\")\n",
        "            elif choice == '4':\n",
        "                if num2 != 0:\n",
        "                    result = num1 / num2\n",
        "                    print(f\"{num1} / {num2} = {result}\")\n",
        "                else:\n",
        "                    print(\"Error! Division by zero.\")\n",
        "            else:\n",
        "                print(\"Invalid input\")\n",
        "\n",
        "if __name__ == \"__main__\":\n",
        "    calculator = CommandLineCalculator()\n",
        "    calculator.run()\n"
      ]
    }
  ]
}